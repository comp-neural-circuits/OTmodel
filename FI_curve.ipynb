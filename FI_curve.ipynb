{
 "cells": [
  {
   "cell_type": "markdown",
   "metadata": {},
   "source": [
    "Generate the FI curve of SST neurons in the presence or absence of oxytocin. Based on https://nest-simulator.readthedocs.io/en/nest-2.20.1/auto_examples/if_curve.html ."
   ]
  },
  {
   "cell_type": "code",
   "execution_count": 1,
   "metadata": {
    "collapsed": false,
    "jupyter": {
     "outputs_hidden": false
    }
   },
   "outputs": [],
   "source": [
    "import numpy\n",
    "import nest"
   ]
  },
  {
   "cell_type": "markdown",
   "metadata": {},
   "source": [
    "Here we define which model and the neuron parameters to use for measuring\n",
    "the transfer function.\n",
    "\n"
   ]
  },
  {
   "cell_type": "code",
   "execution_count": 2,
   "metadata": {
    "collapsed": false,
    "jupyter": {
     "outputs_hidden": false
    }
   },
   "outputs": [],
   "source": [
    "model = 'iaf_psc_delta'\n",
    "paramsBL = {'V_m': -70.0,\n",
    "           'E_L': -60.802, # Maldonado et al 2020\n",
    "           'C_m': 200.0,\n",
    "           'tau_m': 106.6, # Maldonado et al 2020\n",
    "           't_ref': 2.0,\n",
    "           'V_th': -32.0, # Maldonado et al 2020\n",
    "           'V_reset': -60.0}\n",
    "paramsOT = {'V_m': -70.0,\n",
    "           'E_L': -56.3, # Maldonado et al 2020\n",
    "           'C_m': 200.0,\n",
    "           'tau_m': 106.6, # Maldonado et al 2020\n",
    "           't_ref': 2.0,\n",
    "           'V_th': -33.0, # Maldonado et al 2020\n",
    "           'V_reset': -60.0}\n",
    "\n",
    "class IF_curve():\n",
    "\n",
    "    t_inter_trial = 200.  # Interval between two successive measurement trials\n",
    "    t_sim = 4000.         # Duration of a measurement trial\n",
    "    n_neurons = 100       # Number of neurons\n",
    "    n_threads = 4         # Nubmer of threads to run the simulation\n",
    "\n",
    "    def __init__(self, model, params=False):\n",
    "        self.model = model\n",
    "        self.params = params\n",
    "        self.build()\n",
    "        self.connect()\n",
    "\n",
    "    def build(self):\n",
    "        #######################################################################\n",
    "        #  We reset NEST to delete information from previous simulations\n",
    "        # and adjust the number of threads.\n",
    "\n",
    "        nest.ResetKernel()\n",
    "        nest.SetKernelStatus({'local_num_threads': self.n_threads})\n",
    "\n",
    "        #######################################################################\n",
    "        # We set the default parameters of the neuron model to those\n",
    "        # defined above and create neurons and devices.\n",
    "\n",
    "        if self.params:\n",
    "            nest.SetDefaults(self.model, self.params)\n",
    "        self.neuron = nest.Create(self.model, self.n_neurons)\n",
    "        self.noise = nest.Create('noise_generator')\n",
    "        self.spike_detector = nest.Create('spike_detector')\n",
    "\n",
    "    def connect(self):\n",
    "        #######################################################################\n",
    "        # We connect the noisy current to the neurons and the neurons to\n",
    "        # the spike detectors.\n",
    "\n",
    "        nest.Connect(self.noise, self.neuron, 'all_to_all')\n",
    "        nest.Connect(self.neuron, self.spike_detector, 'all_to_all')\n",
    "\n",
    "    def output_rate(self, mean, std):\n",
    "        self.build()\n",
    "        self.connect()\n",
    "\n",
    "        #######################################################################\n",
    "        # We adjust the parameters of the noise according to the current\n",
    "        # values.\n",
    "\n",
    "        #nest.SetStatus(self.noise, [{'mean': mean, 'std': std, 'start': 0.0,\n",
    "        #                             'stop': 1000., 'origin': 0.}])\n",
    "        nest.SetStatus(self.neuron, \"I_e\", 0.0 + mean)\n",
    "        # We simulate the network and calculate the rate.\n",
    "\n",
    "        nest.Simulate(self.t_sim)\n",
    "        rate = nest.GetStatus(self.spike_detector, 'n_events')[0] * 1000.0 \\\n",
    "            / (1. * self.n_neurons * self.t_sim)\n",
    "        return rate\n",
    "\n",
    "    def compute_transfer(self, i_mean=(400.0, 900.0, 50.0),\n",
    "                         i_std=(0.0, 600.0, 50.0)):\n",
    "        #######################################################################\n",
    "        # We loop through all possible combinations of `(I_mean, I_sigma)`\n",
    "        # and measure the output rate of the neuron.\n",
    "\n",
    "        self.i_range = numpy.arange(*i_mean)\n",
    "        self.std_range = numpy.arange(*i_std)\n",
    "        self.rate = numpy.zeros((self.i_range.size, self.std_range.size))\n",
    "        nest.set_verbosity('M_WARNING')\n",
    "        for n, i in enumerate(self.i_range):\n",
    "            # print('I  =  {0}'.format(i))\n",
    "            for m, std in enumerate(self.std_range):\n",
    "                self.rate[n, m] = self.output_rate(i, std)\n",
    "\n"
   ]
  },
  {
   "cell_type": "code",
   "execution_count": 3,
   "metadata": {},
   "outputs": [],
   "source": [
    "transferBL = IF_curve(model, paramsBL)\n",
    "transferBL.compute_transfer(i_mean=(0.0, 140.0, 5.0))\n",
    "transferOT = IF_curve(model, paramsOT)\n",
    "transferOT.compute_transfer(i_mean=(0.0, 140.0, 5.0))"
   ]
  },
  {
   "cell_type": "markdown",
   "metadata": {},
   "source": [
    "After the simulation is finished we store the data into a file for\n",
    "later analysis.\n",
    "\n"
   ]
  },
  {
   "cell_type": "code",
   "execution_count": 4,
   "metadata": {},
   "outputs": [],
   "source": [
    "numpy.save('SIM_OUT/BLrate.npy' , transferBL.rate)\n",
    "numpy.save('SIM_OUT/BLrange.npy' , transferBL.i_range)\n",
    "numpy.save('SIM_OUT/BLstd_range.npy' , transferBL.std_range)\n",
    "numpy.save('SIM_OUT/OTrate.npy' , transferOT.rate)\n",
    "numpy.save('SIM_OUT/OTrange.npy' , transferOT.i_range)\n",
    "numpy.save('SIM_OUT/OTstd_range.npy' , transferOT.std_range)"
   ]
  }
 ],
 "metadata": {
  "kernelspec": {
   "display_name": "Python 3",
   "language": "python",
   "name": "python3"
  },
  "language_info": {
   "codemirror_mode": {
    "name": "ipython",
    "version": 3
   },
   "file_extension": ".py",
   "mimetype": "text/x-python",
   "name": "python",
   "nbconvert_exporter": "python",
   "pygments_lexer": "ipython3",
   "version": "3.7.3"
  }
 },
 "nbformat": 4,
 "nbformat_minor": 4
}
